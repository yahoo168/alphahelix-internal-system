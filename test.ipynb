{
 "cells": [
  {
   "cell_type": "code",
   "execution_count": 65,
   "metadata": {},
   "outputs": [],
   "source": [
    "import os, sys\n",
    "\n",
    "# 添加包路径到sys.path\n",
    "package_path = '/Users/yahoo168/Desktop/資料庫_測試功能/alphahelix-database-cloud'\n",
    "if package_path not in sys.path:\n",
    "    sys.path.append(package_path)\n",
    "\n",
    "# 现在可以导入包中的模块\n",
    "# import your_module\n",
    "\n",
    "from external_tools import GoogleCloudStorageTools #type: ignore\n",
    "from utils import * #type: ignore\n",
    "from datetime import datetime, timedelta\n",
    "\n",
    "google_cloud_storage_tools = GoogleCloudStorageTools(credential_file_path=\"/Users/yahoo168/Desktop/GOOGLE_APPLICATION_CREDENTIALS.json\")\n"
   ]
  },
  {
   "cell_type": "code",
   "execution_count": 73,
   "metadata": {},
   "outputs": [],
   "source": [
    "def _organize_blob_to_document_meta(blob_list, start_date, end_date, document_type):\n",
    "    document_meta_list = list()\n",
    "    for blob in blob_list:\n",
    "        # 取得資料的上傳時間戳記（upload_timestamp)\n",
    "        upload_timestamp = datetime.fromtimestamp(int(blob.metadata[\"upload_timestamp\"]))\n",
    "        # 若未載明資料時間(data_timestamp)，則以上傳時間替代\n",
    "        if \"data_timestamp\" in blob.metadata:\n",
    "            data_timestamp = datetime.fromtimestamp(int(blob.metadata[\"data_timestamp\"]))\n",
    "        else:\n",
    "            data_timestamp = upload_timestamp\n",
    "        \n",
    "        # 检查开始日期和结束日期\n",
    "        if (start_date is not None and upload_timestamp < start_date) or \\\n",
    "           (end_date is not None and upload_timestamp > end_date):\n",
    "            continue\n",
    "            \n",
    "        document_meta_list.append({\"upload_timestamp\": upload_timestamp,\n",
    "                                   \"data_timestamp\": data_timestamp,\n",
    "                                    \"source\": blob.metadata[\"source\"],\n",
    "                                    #去除folder路徑和副檔名，用於頁面呈現（最多70個字，避免影響頁面）\n",
    "                                    \"file_name\": blob.name.split(\"/\")[-1].split(\".\")[0][:70], \n",
    "                                    \"url\": blob.public_url,\n",
    "                                    \"blob_name\": blob.name,\n",
    "                                    \"document_type\": document_type})\n",
    "    return document_meta_list\n",
    "\n",
    "# 搜尋特定市場（TW/US）的股票文件（memo或report）\n",
    "def search_investment_gcs_document(country, document_type, equity_type=\"stock\", ticker=None, start_date=None, end_date=None):\n",
    "    # 如果有ticker，則搜尋特定ticker的文件，否則搜尋所有文件\n",
    "    if ticker:\n",
    "        folder_name = f\"{country}_{equity_type}_{document_type}/{ticker}\"\n",
    "    else:\n",
    "        folder_name = f\"{country}_{equity_type}_{document_type}/\"\n",
    "    \n",
    "    blob_list = google_cloud_storage_tools.get_blob_list_in_folder(bucket_name=\"investment_report\", folder_name=folder_name)\n",
    "    document_meta_list = _organize_blob_to_document_meta(blob_list, start_date, end_date, document_type)\n",
    "    return document_meta_list\n",
    "\n",
    "# 搜尋近期的GCS document（以data timestamp搜尋為基礎）\n",
    "def search_recent_gcs_document(days=1):\n",
    "    end_date = datetime.now()\n",
    "    start_date = end_date - timedelta(days=days)\n",
    "    folder_name_list = [\"TW_industry_report/\", \"TW_stock_memo/\", \"TW_stock_report/\", \"US_stock_report/\"]\n",
    "    document_meta_list = list()\n",
    "    for folder_name in folder_name_list:\n",
    "        document_type = folder_name.split(\"_\")[-1]\n",
    "        _part_blob_list = google_cloud_storage_tools.get_blob_list_in_folder(bucket_name=\"investment_report\", folder_name=folder_name)\n",
    "        _part_document_meta_list = _organize_blob_to_document_meta(_part_blob_list, start_date, end_date, document_type)\n",
    "        document_meta_list.extend(_part_document_meta_list)\n",
    "\n",
    "    return document_meta_list"
   ]
  },
  {
   "cell_type": "code",
   "execution_count": 75,
   "metadata": {},
   "outputs": [],
   "source": [
    "document_meta_list = search_recent_gcs_document(days=3)"
   ]
  },
  {
   "cell_type": "code",
   "execution_count": 1,
   "metadata": {},
   "outputs": [
    {
     "data": {
      "text/plain": [
       "30"
      ]
     },
     "execution_count": 1,
     "metadata": {},
     "output_type": "execute_result"
    }
   ],
   "source": [
    "len(\"1719551523_2308台達電 ML 20240628\")"
   ]
  },
  {
   "cell_type": "markdown",
   "metadata": {},
   "source": []
  }
 ],
 "metadata": {
  "kernelspec": {
   "display_name": "venv",
   "language": "python",
   "name": "python3"
  },
  "language_info": {
   "codemirror_mode": {
    "name": "ipython",
    "version": 3
   },
   "file_extension": ".py",
   "mimetype": "text/x-python",
   "name": "python",
   "nbconvert_exporter": "python",
   "pygments_lexer": "ipython3",
   "version": "3.12.3"
  }
 },
 "nbformat": 4,
 "nbformat_minor": 2
}
